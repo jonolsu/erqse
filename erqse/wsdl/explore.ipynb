{
 "cells": [
  {
   "cell_type": "code",
   "execution_count": 1,
   "metadata": {},
   "outputs": [],
   "source": [
    "%load_ext autoreload\n",
    "%autoreload 2"
   ]
  },
  {
   "cell_type": "code",
   "execution_count": 2,
   "metadata": {},
   "outputs": [],
   "source": [
    "from zeep import Client, Transport, wsse, Settings, plugins, xsd\n",
    "import requests\n",
    "from pprint import pprint, pformat"
   ]
  },
  {
   "cell_type": "code",
   "execution_count": 3,
   "metadata": {},
   "outputs": [],
   "source": [
    "wsdl_url = \"Nodal.wsdl\""
   ]
  },
  {
   "cell_type": "code",
   "execution_count": 4,
   "metadata": {},
   "outputs": [],
   "source": [
    "# session = requests.Session()\n",
    "# session.cert = (\"cert.pem\", \"privkey.pem\")\n",
    "client = Client(\n",
    "    wsdl_url,\n",
    "    # transport=Transport(session=session),\n",
    "    settings=Settings(forbid_entities=False),\n",
    ")"
   ]
  },
  {
   "cell_type": "code",
   "execution_count": 5,
   "metadata": {},
   "outputs": [],
   "source": [
    "client.wsdl.types.add_document_by_url(\"ErcotTransactions.xsd\")\n",
    "# client.wsdl.types.add_document_by_url(\"ErcotCommonTypes.xsd\")"
   ]
  },
  {
   "cell_type": "code",
   "execution_count": 14,
   "metadata": {},
   "outputs": [
    {
     "name": "stdout",
     "output_type": "stream",
     "text": [
      "('{http://www.ercot.com/schema/2007-06/nodal/ews}TmPoint(time: xsd:dateTime, '\n",
      " 'ending: xsd:dateTime, value1: '\n",
      " '{http://www.ercot.com/schema/2007-06/nodal/ews}MWSingleDecimal, value2: '\n",
      " '{http://www.ercot.com/schema/2007-06/nodal/ews}MWSingleDecimal, value3: '\n",
      " '{http://www.ercot.com/schema/2007-06/nodal/ews}MWSingleDecimal, nspnm_value: '\n",
      " '{http://www.ercot.com/schema/2007-06/nodal/ews}MWSingleDecimal, netTrade: '\n",
      " '{http://www.ercot.com/schema/2007-06/nodal/ews}NetTradeType, multiHourBlock: '\n",
      " 'xsd:boolean, tradeConfirmedFlag: xsd:boolean)')\n"
     ]
    }
   ],
   "source": [
    "pprint(client.get_type(\"{http://www.ercot.com/schema/2007-06/nodal/ews}TmPoint\").signature())"
   ]
  }
 ],
 "metadata": {
  "kernelspec": {
   "display_name": "base",
   "language": "python",
   "name": "python3"
  },
  "language_info": {
   "codemirror_mode": {
    "name": "ipython",
    "version": 3
   },
   "file_extension": ".py",
   "mimetype": "text/x-python",
   "name": "python",
   "nbconvert_exporter": "python",
   "pygments_lexer": "ipython3",
   "version": "3.10.9"
  },
  "orig_nbformat": 4
 },
 "nbformat": 4,
 "nbformat_minor": 2
}
